{
 "cells": [
  {
   "cell_type": "code",
   "execution_count": 4,
   "id": "f1202510-7d3e-4240-8669-fcd3d71487b7",
   "metadata": {},
   "outputs": [],
   "source": [
    "x = 2.782"
   ]
  },
  {
   "cell_type": "code",
   "execution_count": 8,
   "id": "f7338759-7b7a-4ed4-a339-200c26d5797f",
   "metadata": {},
   "outputs": [],
   "source": [
    "x = 3.14"
   ]
  },
  {
   "cell_type": "code",
   "execution_count": 10,
   "id": "ead1b249-09d2-4dc2-ba5b-131c69f4f050",
   "metadata": {},
   "outputs": [
    {
     "name": "stdout",
     "output_type": "stream",
     "text": [
      "3.14\n",
      "6.28\n"
     ]
    }
   ],
   "source": [
    "print(x)\n",
    "print(2*x)"
   ]
  },
  {
   "cell_type": "code",
   "execution_count": 12,
   "id": "e37d129f-fd6e-4a17-8cc5-05b7571f05d6",
   "metadata": {},
   "outputs": [
    {
     "data": {
      "text/plain": [
       "[<matplotlib.lines.Line2D at 0x7fac2a86f190>]"
      ]
     },
     "execution_count": 12,
     "metadata": {},
     "output_type": "execute_result"
    },
    {
     "data": {
      "image/png": "[encoded data removed]",
      "text/plain": [
       "<Figure size 432x288 with 1 Axes>"
      ]
     },
     "metadata": {
      "needs_background": "light"
     },
     "output_type": "display_data"
    }
   ],
   "source": [
    "from matplotlib.pyplot import plot\n",
    "plot(range(20),range(20,0,-1))"
   ]
  },
  {
   "cell_type": "code",
   "execution_count": 17,
   "id": "f1dc6a8f-0f46-4929-9714-bee6a0d75ab4",
   "metadata": {},
   "outputs": [],
   "source": [
    "import numpy as np"
   ]
  },
  {
   "cell_type": "code",
   "execution_count": 18,
   "id": "10f02278-be65-4621-a222-8231301570b7",
   "metadata": {},
   "outputs": [
    {
     "data": {
      "text/plain": [
       "<function numpy.array>"
      ]
     },
     "execution_count": 18,
     "metadata": {},
     "output_type": "execute_result"
    }
   ],
   "source": [
    "np.array"
   ]
  },
  {
   "cell_type": "code",
   "execution_count": 19,
   "id": "15d507bc-c5a7-4f16-8417-d4bf813b867f",
   "metadata": {},
   "outputs": [
    {
     "ename": "NameError",
     "evalue": "name 'displot' is not defined",
     "output_type": "error",
     "traceback": [
      "\u001b[0;31m---------------------------------------------------------------------------\u001b[0m",
      "\u001b[0;31mNameError\u001b[0m                                 Traceback (most recent call last)",
      "\u001b[0;32m/var/folders/cn/8w40979d27x0kv2wsnx7zgvm0000gp/T/ipykernel_50144/4150408450.py\u001b[0m in \u001b[0;36m<module>\u001b[0;34m\u001b[0m\n\u001b[0;32m----> 1\u001b[0;31m \u001b[0mdisplot\u001b[0m\u001b[0;34m(\u001b[0m\u001b[0mx\u001b[0m\u001b[0;34m,\u001b[0m\u001b[0my\u001b[0m\u001b[0;34m)\u001b[0m\u001b[0;34m\u001b[0m\u001b[0;34m\u001b[0m\u001b[0m\n\u001b[0m",
      "\u001b[0;31mNameError\u001b[0m: name 'displot' is not defined"
     ]
    }
   ],
   "source": [
    "displot(x,y)"
   ]
  },
  {
   "cell_type": "markdown",
   "id": "f70da96f-1f93-4dbf-ae76-23c16fd5ec91",
   "metadata": {},
   "source": [
    "Here is some text. *italics* and **bold** are possible. List of items:\n",
    "\n",
    "* bullet point\n",
    "* another point\n",
    "\n",
    "1. first item\n",
    "1. second item"
   ]
  },
  {
   "cell_type": "markdown",
   "id": "91b65f45-8aa1-4eaf-b921-06aa720aaccc",
   "metadata": {},
   "source": [
    "Math is input via LaTeX. A short expression in text is enclosed in dollar signs, like $x^2$. Use double dollar signs to break out into a display, like\n",
    "\n",
    "$$\n",
    "\\int x \\,    dx =       x^2.\n",
    "$$\n",
    "\n",
    "Subscript via `_`: $x_1y_2z_k$. More than one character, use curly braces. $x^{2z+1}$"
   ]
  },
  {
   "cell_type": "markdown",
   "id": "9fb92978-c9ef-481e-8900-95540151f774",
   "metadata": {},
   "source": [
    "$e^{i \\pi}$  Function names are preceded by backslash. Compare\n",
    "\n",
    "$$\n",
    "cos(x)\n",
    "$$\n",
    "\n",
    "with \n",
    "\n",
    "$$\n",
    "\\cos(x)\n",
    "$$\n",
    "\n",
    "Greek letters use backslash.\n",
    "\n",
    "$$\n",
    "\\theta, \\alpha, \\Phi\n",
    "$$"
   ]
  },
  {
   "cell_type": "markdown",
   "id": "ae7f5926-40ac-4152-ae4b-aa4aa6aa4dba",
   "metadata": {},
   "source": [
    "Fractions:\n",
    "\n",
    "$$\n",
    "\\frac{1}{2} \\sin^2(\\theta)\n",
    "$$\n",
    "\n",
    "Use super and sub scripts on `\\int` and `\\sum`:\n",
    "\n",
    "$$\n",
    "\\sum_{i=1}^n n = \\frac{n(n+1)}{2}\n",
    "$$"
   ]
  },
  {
   "cell_type": "code",
   "execution_count": null,
   "id": "943e9ad4-cae7-4504-badb-33c168582b17",
   "metadata": {},
   "outputs": [],
   "source": []
  }
 ],
 "metadata": {
  "kernelspec": {
   "display_name": "Python 3 (ipykernel)",
   "language": "python",
   "name": "python3"
  },
  "language_info": {
   "codemirror_mode": {
    "name": "ipython",
    "version": 3
   },
   "file_extension": ".py",
   "mimetype": "text/x-python",
   "name": "python",
   "nbconvert_exporter": "python",
   "pygments_lexer": "ipython3",
   "version": "3.8.8"
  }
 },
 "nbformat": 4,
 "nbformat_minor": 5
}
